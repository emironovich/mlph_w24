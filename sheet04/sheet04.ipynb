{
 "cells": [
  {
   "cell_type": "markdown",
   "metadata": {},
   "source": [
    "# Sheet 4"
   ]
  },
  {
   "cell_type": "code",
   "execution_count": 4,
   "metadata": {},
   "outputs": [],
   "source": [
    "import numpy as np\n",
    "from matplotlib import pyplot as plt\n",
    "import random"
   ]
  },
  {
   "cell_type": "markdown",
   "metadata": {},
   "source": [
    "## 3 QDA\n",
    "### (a)"
   ]
  },
  {
   "cell_type": "code",
   "execution_count": 5,
   "metadata": {},
   "outputs": [
    {
     "name": "stdout",
     "output_type": "stream",
     "text": [
      "Class 0: mean 0.105777, std 1.018518\n",
      "Class 1: mean 2.105667, std 1.419657\n"
     ]
    }
   ],
   "source": [
    "pts = np.load('data/data1d.npy')\n",
    "labels = np.load('data/labels1d.npy')\n",
    "\n",
    "pts_class0 = pts[labels == 0]\n",
    "pts_class1 = pts[labels == 1]\n",
    "\n",
    "mean_class0 = np.mean(pts_class0)\n",
    "std_class0 = np.std(pts_class0)\n",
    "print(f'Class 0: mean {mean_class0:2f}, std {std_class0:2f}')\n",
    "\n",
    "mean_class1 = np.mean(pts_class1)\n",
    "std_class1 = np.std(pts_class1)\n",
    "print(f'Class 1: mean {mean_class1:2f}, std {std_class1:2f}')\n"
   ]
  },
  {
   "cell_type": "markdown",
   "metadata": {},
   "source": [
    "### (b)"
   ]
  },
  {
   "cell_type": "code",
   "execution_count": null,
   "metadata": {},
   "outputs": [
    {
     "ename": "TypeError",
     "evalue": "unsupported operand type(s) for //: 'tuple' and 'int'",
     "output_type": "error",
     "traceback": [
      "\u001b[1;31m---------------------------------------------------------------------------\u001b[0m",
      "\u001b[1;31mTypeError\u001b[0m                                 Traceback (most recent call last)",
      "Cell \u001b[1;32mIn[33], line 6\u001b[0m\n\u001b[0;32m      4\u001b[0m ax\u001b[38;5;241m.\u001b[39mset_xlim(\u001b[38;5;241m-\u001b[39m\u001b[38;5;241m10\u001b[39m, \u001b[38;5;241m10\u001b[39m)\n\u001b[0;32m      5\u001b[0m ax\u001b[38;5;241m.\u001b[39mset_ylim(\u001b[38;5;241m0\u001b[39m, \u001b[38;5;241m1\u001b[39m)\n\u001b[1;32m----> 6\u001b[0m ax\u001b[38;5;241m.\u001b[39mscatter(pts_class0[:\u001b[43mpts_class0\u001b[49m\u001b[38;5;241;43m.\u001b[39;49m\u001b[43mshape\u001b[49m\u001b[43m \u001b[49m\u001b[38;5;241;43m/\u001b[39;49m\u001b[38;5;241;43m/\u001b[39;49m\u001b[43m \u001b[49m\u001b[38;5;241;43m2\u001b[39;49m], np\u001b[38;5;241m.\u001b[39mzeros(pts_class0\u001b[38;5;241m.\u001b[39mshape), color\u001b[38;5;241m=\u001b[39m\u001b[38;5;124m'\u001b[39m\u001b[38;5;124mC1\u001b[39m\u001b[38;5;124m'\u001b[39m, marker\u001b[38;5;241m=\u001b[39m\u001b[38;5;124m'\u001b[39m\u001b[38;5;124m|\u001b[39m\u001b[38;5;124m'\u001b[39m)\n\u001b[0;32m      7\u001b[0m ax\u001b[38;5;241m.\u001b[39mscatter(pts_class1, np\u001b[38;5;241m.\u001b[39mzeros(pts_class1\u001b[38;5;241m.\u001b[39mshape), marker\u001b[38;5;241m=\u001b[39m\u001b[38;5;124m'\u001b[39m\u001b[38;5;124m|\u001b[39m\u001b[38;5;124m'\u001b[39m)\n\u001b[0;32m      8\u001b[0m ax\u001b[38;5;241m.\u001b[39mscatter(pts_class0[pts_class0\u001b[38;5;241m.\u001b[39mshape \u001b[38;5;241m/\u001b[39m\u001b[38;5;241m/\u001b[39m \u001b[38;5;241m2\u001b[39m:], np\u001b[38;5;241m.\u001b[39mzeros(pts_class0\u001b[38;5;241m.\u001b[39mshape), color\u001b[38;5;241m=\u001b[39m\u001b[38;5;124m'\u001b[39m\u001b[38;5;124mC1\u001b[39m\u001b[38;5;124m'\u001b[39m, marker\u001b[38;5;241m=\u001b[39m\u001b[38;5;124m'\u001b[39m\u001b[38;5;124m|\u001b[39m\u001b[38;5;124m'\u001b[39m)\n",
      "\u001b[1;31mTypeError\u001b[0m: unsupported operand type(s) for //: 'tuple' and 'int'"
     ]
    },
    {
     "data": {
      "image/png": "[encoded data removed]",
      "text/plain": [
       "<Figure size 640x480 with 1 Axes>"
      ]
     },
     "metadata": {},
     "output_type": "display_data"
    }
   ],
   "source": [
    "\n",
    "#fig, ax = plt.subplots(1, 2, sharex=True, sharey=True)\n",
    "fig, ax = plt.subplots()\n",
    "random.shuffle(pts_class0)\n",
    "ax.set_xlim(-10, 10)\n",
    "ax.set_ylim(0, 1)\n",
    "ax.scatter(pts_class0[:pts_class0.size // 2], np.zeros(pts_class0.shape), color='C1', marker='|')\n",
    "ax.scatter(pts_class1, np.zeros(pts_class1.shape), marker='|')\n",
    "ax.scatter(pts_class0[pts_class0.size // 2:], np.zeros(pts_class0.shape), color='C1', marker='|')\n",
    "plt.show()"
   ]
  },
  {
   "cell_type": "markdown",
   "metadata": {},
   "source": [
    "## 4 Trees and Random Forests"
   ]
  },
  {
   "cell_type": "markdown",
   "metadata": {},
   "source": [
    "### (b)"
   ]
  },
  {
   "cell_type": "code",
   "execution_count": 6,
   "metadata": {},
   "outputs": [],
   "source": [
    "# load the data\n",
    "pts = np.load('data/data1d.npy')\n",
    "labels = np.load('data/labels1d.npy')\n",
    "\n",
    "# TODO: Sort the points to easily split them\n",
    "\n",
    "# TODO: Implement or find implementation for Gini impurity, entropy and misclassifcation rate\n",
    "\n",
    "def probabilities(partition):\n",
    "    # divide counts by size of dataset to get cluster probabilites\n",
    "    return np.unique(partition, return_counts=True)[1] / len(partition)\n",
    "\n",
    "def compute_split_measure(l, l0, l1, method):\n",
    "    p0 = probabilities(l0)\n",
    "    p1 = probabilities(l1)\n",
    "    p = probabilities(l)\n",
    "    return method(p) - (len(l0) * method(p0) + len(l1) * method(p1)) / (len(l))\n",
    "\n",
    "# TODO: Iterate over the possible splits, evaulating and saving the three criteria for each one\n",
    "# TODO: Then, Compute the split that each criterion favours and visualize them \n",
    "#       (e.g. with a histogram for each class and vertical lines to show the splits)"
   ]
  },
  {
   "cell_type": "markdown",
   "metadata": {},
   "source": [
    "### (b)"
   ]
  },
  {
   "cell_type": "code",
   "execution_count": 7,
   "metadata": {},
   "outputs": [],
   "source": [
    "# load the dijet data\n",
    "features = np.load('data/dijet_features_normalized.npy')\n",
    "labels = np.load('data/dijet_labels.npy')\n",
    "\n",
    "# TODO: define train, val and test splits as specified (make sure to shuffle the data before splitting it!)"
   ]
  },
  {
   "cell_type": "code",
   "execution_count": 8,
   "metadata": {},
   "outputs": [],
   "source": [
    "from sklearn.ensemble import RandomForestClassifier\n",
    "\n",
    "# TODO: train a random forest classifier for each combination of specified hyperparameters \n",
    "#       and evaluate the performances on the validation set."
   ]
  },
  {
   "cell_type": "code",
   "execution_count": 9,
   "metadata": {},
   "outputs": [],
   "source": [
    "# TODO: for your preferred configuration, evaluate the performance of the best configuration on the test set"
   ]
  }
 ],
 "metadata": {
  "kernelspec": {
   "display_name": "Python 3",
   "language": "python",
   "name": "python3"
  },
  "language_info": {
   "codemirror_mode": {
    "name": "ipython",
    "version": 3
   },
   "file_extension": ".py",
   "mimetype": "text/x-python",
   "name": "python",
   "nbconvert_exporter": "python",
   "pygments_lexer": "ipython3",
   "version": "3.9.20"
  }
 },
 "nbformat": 4,
 "nbformat_minor": 2
}
